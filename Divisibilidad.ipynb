{
 "cells": [
  {
   "cell_type": "markdown",
   "metadata": {},
   "source": [
    "## Índice <a name=\"indice\"></a>\n",
    "\n",
    "1. [Divisibilidad entre 2](#div2)\n",
    "1. [Divisibilidad entre 3](#div3)\n",
    "1. [Divisibilidad entre 5](#div5)"
   ]
  },
  {
   "cell_type": "markdown",
   "metadata": {},
   "source": [
    "## Divisibilidad entre  <a name=\"div\"></a>\n",
    "\n"
   ]
  },
  {
   "cell_type": "markdown",
   "metadata": {},
   "source": [
    "<div style=\"background-color:rgb(200, 200, 200); text-align:center; vertical-align: middle; padding:40px 0;\">\n",
    "\n",
    "</div>"
   ]
  },
  {
   "cell_type": "markdown",
   "metadata": {},
   "source": [
    "## Divisibilidad entre 2 <a name=\"div2\"></a>\n",
    "\n",
    "Para encontrar un número $x$ que sea divisible entre un número $y$, debemos establecer, por principio que $x$ es entonces un múltiplo de $y$. Así, al conjunto de todos los números multiplos de $y$ lo llamaremos Conjunto $X$\n",
    "\n",
    "A los múltiplos de 2 se les llama *números pares*. El conjunto de los números pares pudiera ser:\n",
    "\n",
    "$$\\{Múltiplos\\;de\\;2\\} = \\{0, 2, 4, 6, 8, 10, 12, 14, 16, 18, 20, 22, \\ldots \\} $$\n",
    "\n",
    "A las cifras que denotan múltiplos de $2$ también se les acostumbra llamar *ciras pares*:\n",
    "\n",
    "$$\\{Cifras\\;pares\\} = \\{0,2,4,6,8\\}$$\n",
    "\n",
    "Observemos ahora que todos los elemensots del conjunto $Múltiplos\\;de\\;2$ terminan en una cifra par. Es por eso que:\n"
   ]
  },
  {
   "cell_type": "markdown",
   "metadata": {},
   "source": [
    "<div style=\"background-color:rgb(200, 200, 200); text-align:center; vertical-align: middle; padding:40px 0;\">\n",
    "Un número es divisible ente $2$, si la última cifra en la expresión que lo nombra es cifra par.\n",
    "</div>"
   ]
  },
  {
   "cell_type": "markdown",
   "metadata": {},
   "source": [
    "## Divisibilidad entre 3 <a name=\"div3\"></a>\n",
    "\n",
    "Observemos lo conjunto de los múltiplos de $3$:\n",
    "\n",
    "$$\\{Múltiplos\\;de\\;3\\} = \\{0,3,6,9,12,15,18,21,24,27,30,33,39,39, \\ldots \\}$$\n",
    "\n",
    "Se puede observar, que todos los números de este conjunto, al sumar las cifras que los expresan, el resultado es una cifra múltiplo de 3:\n",
    "\n",
    "$12 \\rightarrow 1 + 2 = 3 $\n",
    "\n",
    "$15 \\rightarrow 1 + 5 = 6 $\n",
    "\n",
    "$18 \\rightarrow 1 + 8 = 9 $\n",
    "\n",
    "$36 \\rightarrow 3 + 6 = 9 $\n",
    "\n",
    "$39 \\rightarrow 3 + 9 = 12 \\rightarrow 1 + 2 = 3$\n",
    "\n",
    "$4521 \\rightarrow 4 + 5 + 2 + 1 = 12 \\rightarrow 1 + 2 = 3$\n",
    "$$ $$\n",
    "<div style=\"background-color:rgb(200, 200, 200); text-align:center; vertical-align: middle; padding:40px 0;\">\n",
    "Un número es divisible entre $3$ si la suma de las cifras con las que se expresa es un una cifra múltiplo de $3$\n",
    "</div>"
   ]
  },
  {
   "cell_type": "markdown",
   "metadata": {},
   "source": [
    "## Divisibilidad entre 5 <a name=\"div5\"></a>\n",
    "\n",
    "Observemos el conjunto de los múltiplos de 5:\n",
    "\n",
    "$$\\{Múltiplos\\;de\\;5\\} = \\{0, 5, 10, 15, 20,25,\\ldots\\}$$\n",
    "\n",
    "Ahora observamos que cualquiera de estos números, terminan o en $5$ o en $0$. En virtud de que los múltiplos de $5$ son los números divisibles entre $5$, tenemos:\n",
    " $$$$\n",
    "<div style=\"background-color:rgb(200, 200, 200); text-align:center; vertical-align: middle; padding:40px 0;\">\n",
    " Un número es divisible entre $5$, si la última cifra en la expresión que lo nombra es $0$ o $5$.\n",
    "</div>"
   ]
  }
 ],
 "metadata": {
  "kernelspec": {
   "display_name": "Python 3",
   "language": "python",
   "name": "python3"
  },
  "language_info": {
   "codemirror_mode": {
    "name": "ipython",
    "version": 3
   },
   "file_extension": ".py",
   "mimetype": "text/x-python",
   "name": "python",
   "nbconvert_exporter": "python",
   "pygments_lexer": "ipython3",
   "version": "3.5.3"
  }
 },
 "nbformat": 4,
 "nbformat_minor": 2
}
