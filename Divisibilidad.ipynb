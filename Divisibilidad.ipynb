{
 "cells": [
  {
   "cell_type": "markdown",
   "metadata": {},
   "source": [
    "## Índice <a name=\"indice\"></a>\n",
    "\n",
    "1. [Divisibilidad entre 2](#div2)\n",
    "1. [Divisibilidad entre 3](#div3)\n",
    "1. [Divisibilidad entre 4](#div4)\n",
    "1. [Divisibilidad entre 5](#div5)\n",
    "1. [Divisibilidad entre 6](#div6)\n",
    "1. [Divisibilidad entre 7](#div7)\n",
    "1. [Divisibilidad entre 8](#div8)\n",
    "1. [Divisibilidad entre 9](#div9)"
   ]
  },
  {
   "cell_type": "markdown",
   "metadata": {},
   "source": [
    "----\n",
    "## Divisibilidad entre 2 <a name=\"div2\"></a>\n",
    "\n",
    "$$N = \\{n : n\\; \\textrm{es un número entero}\\}$$\n",
    "\n",
    "$$M2 = \\{m : m\\; \\textrm{es un número múltiplo de 2}\\}$$\n",
    "\n",
    "<div style=\"background-color:rgb(200, 200, 200); text-align:center; vertical-align: middle; padding:40px 0;\">\n",
    "$n \\in M2$ si $n$ es número par.\n",
    "</div>"
   ]
  },
  {
   "cell_type": "markdown",
   "metadata": {},
   "source": [
    "----\n",
    "## Divisibilidad entre 3 <a name=\"div3\"></a>\n",
    "\n",
    "$$N = \\{n : n\\; \\textrm{es un número entero}\\}$$\n",
    "\n",
    "$$ M3 = \\{m : m\\textrm{es un número múltiplo de 3}\\}$$\n",
    "\n",
    "<div style=\"background-color:rgb(200, 200, 200); text-align:center; vertical-align: middle; padding:40px 0;\">\n",
    "$n \\in M3$ si la suma de todas las cifras que componen a $n$ son múltiplo de $3$.</div>\n",
    "\n",
    "\n",
    "$15 \\rightarrow 1 + 5 = 6$\n",
    "\n",
    "$18 \\rightarrow 1 + 8 = 9$\n",
    "\n",
    "$21 \\rightarrow 2 + 1 = 3$\n",
    "\n",
    "$4521 \\rightarrow 4 + 5 + 2 + 1 = 12; 1 + 2 = 3$\n"
   ]
  },
  {
   "cell_type": "markdown",
   "metadata": {},
   "source": [
    "----\n",
    "## Divisibilidad entre 4 <a name=\"div4\"></a>\n",
    "\n",
    "$$N = \\{n : n\\; \\textrm{es un número entero}\\}$$\n",
    "\n",
    "$$M4 = \\{m : m\\; \\textrm{es un número múltiplo de 4}\\}$$\n",
    "\n",
    "<div style=\"background-color:rgb(200, 200, 200); text-align:center; vertical-align: middle; padding:40px 0;\">\n",
    "$n \\in M4$ si el doble de la penúltima cifra mas la última cifra, da como resultado un número múltiplo de $4$.</div>\n",
    "\n",
    "$56 \\rightarrow 5*2 + 6 = 16$\n",
    "\n",
    "$348 \\rightarrow 4*2 + 8 = 16$\n",
    "\n",
    "$5400 \\rightarrow 00$\n",
    "\n",
    "$876 \\rightarrow 2*7 + 6 = 20$\n"
   ]
  },
  {
   "cell_type": "markdown",
   "metadata": {},
   "source": [
    "----\n",
    "## Divisibilidad entre 5 <a name=\"div5\"></a>\n",
    "\n",
    "$$N = \\{n : n\\; \\textrm{es un número entero}\\}$$\n",
    "\n",
    "$$M5 = \\{m : m\\; \\textrm{es un número múltiplo de 5}\\}$$\n",
    "\n",
    "<div style=\"background-color:rgb(200, 200, 200); text-align:center; vertical-align: middle; padding:40px 0;\">\n",
    "$n \\in M5$ si la última cifra de $n$ es $5$ o $0$, excepto el cero mismo.\n",
    "</div>"
   ]
  },
  {
   "cell_type": "markdown",
   "metadata": {},
   "source": [
    "----\n",
    "## Divisibilidad entre 6 <a name=\"div6\"></a>\n",
    "\n",
    "$$N = \\{n : n\\; \\textrm{es un número entero}\\}$$\n",
    "\n",
    "$$M6 = \\{m : m\\; \\textrm{es un número múltiplo de 6}\\}$$\n",
    "\n",
    "<div style=\"background-color:rgb(200, 200, 200); text-align:center; vertical-align: middle; padding:40px 0;\">\n",
    "$n \\in M6$ si $n \\in M2$ y $n \\in M3$\n",
    "</div>"
   ]
  },
  {
   "cell_type": "markdown",
   "metadata": {},
   "source": [
    "----\n",
    "## Divisibilidad entre 7 <a name=\"div7\"></a>\n",
    "\n",
    "$$N = \\{n : n\\; \\textrm{es un número entero}\\}$$\n",
    "\n",
    "$$M7 = \\{m : m\\; \\textrm{es un número múltiplo de 7}\\}$$\n",
    "\n",
    "\n",
    "<div style=\"background-color:rgb(200, 200, 200); text-align:center; vertical-align: middle; padding:40px 0;\">\n",
    "$n \\in M7$ si el doble de la última cifra restado al número que se generó con las demás cifras, de manera recursiva, es múltiplo de $7$ o $0$.\n",
    "</div>\n",
    "\n",
    "$238 \\rightarrow 23 - 8*2 = 23 - 16= 7$\n",
    "\n",
    "$567 \\rightarrow 56 - 7*2 = 56 - 14 = 42$\n",
    "\n",
    "$5131 \\rightarrow 513 - 1*2 = 513 - 2 = 511; 51 - 1*2 = 51 - 2 = 49$"
   ]
  },
  {
   "cell_type": "markdown",
   "metadata": {},
   "source": [
    "----\n",
    "## Divisibilidad entre 8 <a name=\"div8\"></a>\n",
    "\n",
    "$$N = \\{n : n\\; \\textrm{es un número entero}\\}$$\n",
    "\n",
    "$$M8 = \\{m : m\\; \\textrm{es un número múltiplo de 8}\\}$$\n",
    "\n",
    "<div style=\"background-color:rgb(200, 200, 200); text-align:center; vertical-align: middle; padding:40px 0;\">\n",
    "$n \\in M8$ si el número formado por las últimas tres cifras es múltiplo de $8$, o es triple cero.\n",
    "</div>\n",
    "\n",
    "$2032 \\rightarrow 032$ es múltiplo de 8\n",
    "\n",
    "$6672 \\rightarrow 672$ es múltiplo de 8\n",
    "\n",
    "$7000 \\rightarrow 000$"
   ]
  },
  {
   "cell_type": "markdown",
   "metadata": {},
   "source": [
    "----\n",
    "## Divisibilidad entre 9 <a name=\"div9\"></a>\n",
    "\n",
    "$$N = \\{n : n\\; \\textrm{es un número entero}\\}$$\n",
    "\n",
    "$$M9 = \\{m : m\\; \\textrm{es un número múltiplo de 9}\\}$$\n",
    "\n",
    "\n",
    "<div style=\"background-color:rgb(200, 200, 200); text-align:center; vertical-align: middle; padding:40px 0;\">\n",
    "$n \\in M9$ si la suma de las cifras que lo componen es un múltiplo de nueve.\n",
    "</div>"
   ]
  }
 ],
 "metadata": {
  "kernelspec": {
   "display_name": "Python 3",
   "language": "python",
   "name": "python3"
  },
  "language_info": {
   "codemirror_mode": {
    "name": "ipython",
    "version": 3
   },
   "file_extension": ".py",
   "mimetype": "text/x-python",
   "name": "python",
   "nbconvert_exporter": "python",
   "pygments_lexer": "ipython3",
   "version": "3.6.3"
  }
 },
 "nbformat": 4,
 "nbformat_minor": 2
}
