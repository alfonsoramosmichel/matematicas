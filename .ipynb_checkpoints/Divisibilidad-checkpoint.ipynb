{
 "cells": [
  {
   "cell_type": "markdown",
   "metadata": {},
   "source": [
    "## Índice <a name=\"indice\"></a>\n",
    "\n",
    "1. [Divisibilidad entre 2](#div2)"
   ]
  },
  {
   "cell_type": "markdown",
   "metadata": {},
   "source": [
    "## Divisibilidad entre 2 <a name=\"div2\"></a>\n",
    "\n",
    "A los múltiplos de 2 se les llama *números pares*. El conjunto de los números pares pudiera ser:\n",
    "$\\{Múltiplos de 2\\} = \\{0, 2, 4, 6, 8, 10, 12, 14, 16, 18, 20, 22, ...\\} $"
   ]
  }
 ],
 "metadata": {
  "kernelspec": {
   "display_name": "Python 3",
   "language": "python",
   "name": "python3"
  },
  "language_info": {
   "codemirror_mode": {
    "name": "ipython",
    "version": 3
   },
   "file_extension": ".py",
   "mimetype": "text/x-python",
   "name": "python",
   "nbconvert_exporter": "python",
   "pygments_lexer": "ipython3",
   "version": "3.5.3"
  }
 },
 "nbformat": 4,
 "nbformat_minor": 2
}
